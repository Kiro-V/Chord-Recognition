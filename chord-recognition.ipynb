{
 "cells": [
  {
   "cell_type": "markdown",
   "metadata": {},
   "source": [
    "# Chord Recognition\n"
   ]
  },
  {
   "cell_type": "markdown",
   "metadata": {},
   "source": [
    "## Setting up Environment\n",
    "```bash\n",
    "$ python -m venv chord\n",
    "$ source chord/bin/activate # for linux\n",
    "$ ./chord/Scripts/activate # for windows\n",
    "$ python.exe -m pip install --upgrade pip # upgrade pip\n",
    "$ pip install -r requirements.txt\n",
    "```"
   ]
  },
  {
   "cell_type": "code",
   "execution_count": null,
   "metadata": {},
   "outputs": [],
   "source": [
    "# Import dependencies\n",
    "import numpy as np\n",
    "import matplotlib.pyplot as plt\n",
    "import scipy\n",
    "import librosa"
   ]
  },
  {
   "cell_type": "code",
   "execution_count": null,
   "metadata": {},
   "outputs": [],
   "source": [
    "# Load all audio files in folder ./res/audio\n",
    "audio_files = librosa.util.find_files('res/audio')\n",
    "audio_files = np.asarray(audio_files)"
   ]
  }
 ],
 "metadata": {
  "kernelspec": {
   "display_name": "chord",
   "language": "python",
   "name": "python3"
  },
  "language_info": {
   "name": "python",
   "version": "3.11.5"
  }
 },
 "nbformat": 4,
 "nbformat_minor": 2
}
